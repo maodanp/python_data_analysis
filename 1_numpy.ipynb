{
 "cells": [
  {
   "cell_type": "markdown",
   "metadata": {},
   "source": [
    "# Numpy 库"
   ]
  },
  {
   "cell_type": "markdown",
   "metadata": {},
   "source": [
    "## Numpy库入门"
   ]
  },
  {
   "cell_type": "markdown",
   "metadata": {},
   "source": [
    "### 数据的维度"
   ]
  },
  {
   "cell_type": "markdown",
   "metadata": {},
   "source": [
    "* 一维数据"
   ]
  },
  {
   "cell_type": "markdown",
   "metadata": {},
   "source": [
    "一维数据由对等关系的有序或者无序数据构成，采用线性方式组织。对应于**列表**、**数组**和**集合**等概念。"
   ]
  },
  {
   "cell_type": "markdown",
   "metadata": {},
   "source": [
    "    列表：数据类型可以不同。比如 3.1413, 'pi',[3.1401, 3.1349], '3.1376'"
   ]
  },
  {
   "cell_type": "markdown",
   "metadata": {},
   "source": [
    "    数组：数据类型相同。比如 3.1413, 3.1410, 3.15"
   ]
  },
  {
   "cell_type": "markdown",
   "metadata": {},
   "source": [
    "    Python表示：列表和集合类型。比如 [3.13, 3.14] {3.13, 3.14}"
   ]
  },
  {
   "cell_type": "markdown",
   "metadata": {},
   "source": [
    "* 二维数据"
   ]
  },
  {
   "cell_type": "markdown",
   "metadata": {},
   "source": [
    "二维数据由多个一位数据构成，是一维数据的组合形式。"
   ]
  },
  {
   "cell_type": "markdown",
   "metadata": {},
   "source": [
    "    表格是典型的二位数据。其中，表头是二维数据的一部分。"
   ]
  },
  {
   "cell_type": "markdown",
   "metadata": {},
   "source": [
    "    Python表示：列表类型。比如 [[3.13, 3.14], [3.13, 3.14]]"
   ]
  },
  {
   "cell_type": "markdown",
   "metadata": {},
   "source": [
    "* 多维数据"
   ]
  },
  {
   "cell_type": "markdown",
   "metadata": {},
   "source": [
    "多维数据由一维或者二维数据在新维度上扩展形成。"
   ]
  },
  {
   "cell_type": "markdown",
   "metadata": {},
   "source": [
    "    比如表格基于时间的跨度，从而构成了多维数据。"
   ]
  },
  {
   "cell_type": "markdown",
   "metadata": {},
   "source": [
    "    Python表示：列表类型。比如 [[3.13, 3.14], [3.13, 3.14]]"
   ]
  },
  {
   "cell_type": "markdown",
   "metadata": {},
   "source": [
    "* 高维数据"
   ]
  },
  {
   "cell_type": "markdown",
   "metadata": {},
   "source": [
    "高维数据仅利用最基本的二元关系展示数据间的复杂结构。"
   ]
  },
  {
   "cell_type": "markdown",
   "metadata": {},
   "source": [
    "`\n",
    "{\n",
    " \"firstName\":\"Josn\",\n",
    " \"lastName\":\"Tang\",\n",
    " \"address\":{\n",
    "              \"stressAddr\":\"\",\n",
    "              \"City\":\"\",\n",
    "              \"zipcode\":\"\"\n",
    "            } \n",
    "}\n",
    "`"
   ]
  },
  {
   "cell_type": "markdown",
   "metadata": {},
   "source": [
    "    Python表示：字典类型或数据表示格式（json/XML/YAML）。"
   ]
  },
  {
   "cell_type": "markdown",
   "metadata": {},
   "source": [
    "### Numpy数组对象: ndarray"
   ]
  },
  {
   "cell_type": "markdown",
   "metadata": {},
   "source": [
    "#### Numpy 介绍"
   ]
  },
  {
   "cell_type": "markdown",
   "metadata": {},
   "source": [
    "Numpy 是一个开源的Python科学计算基础库"
   ]
  },
  {
   "cell_type": "markdown",
   "metadata": {},
   "source": [
    "* 一个强大的N维数组对象ndarry\n",
    "* 广播功能函数：用于数组间计算\n",
    "* 整合C/C++/Fortran代码的工具\n",
    "* 线性代数、傅里叶变换、随机数生成等功能"
   ]
  },
  {
   "cell_type": "markdown",
   "metadata": {},
   "source": [
    "Numpy 是SciPy, Pandas等库的基础"
   ]
  },
  {
   "cell_type": "markdown",
   "metadata": {},
   "source": [
    "#### Numpy示例"
   ]
  },
  {
   "cell_type": "markdown",
   "metadata": {},
   "source": [
    "计算$A^2 + B^3$,其中，A和B是一维数组"
   ]
  },
  {
   "cell_type": "code",
   "execution_count": 16,
   "metadata": {},
   "outputs": [
    {
     "name": "stdout",
     "output_type": "stream",
     "text": [
      "[729, 513, 347, 225, 141]\n"
     ]
    }
   ],
   "source": [
    "def pySum():\n",
    "    a = [0,1,2,3,4]\n",
    "    b = [9,8,7,6,5]\n",
    "    c = []\n",
    "    \n",
    "    for i in range(len(a)):\n",
    "        c.append(a[i]**2 + b[i]**3)\n",
    "        \n",
    "    return c\n",
    "\n",
    "print(pySum())"
   ]
  },
  {
   "cell_type": "code",
   "execution_count": 17,
   "metadata": {},
   "outputs": [
    {
     "name": "stdout",
     "output_type": "stream",
     "text": [
      "[729 513 347 225 141]\n"
     ]
    }
   ],
   "source": [
    "import numpy as np\n",
    "def npSum():\n",
    "    a = np.array([0,1,2,3,4])\n",
    "    b = np.array([9,8,7,6,5])\n",
    "    c = a**2 + b**3\n",
    "    return c\n",
    "\n",
    "print(npSum())"
   ]
  },
  {
   "cell_type": "markdown",
   "metadata": {},
   "source": [
    "* 数组对象可以去掉元素间运算所需的循环，使一维向量更像单个数据\n",
    "* 设置专门数组对象可提升运算速度（底层实现用C完成）\n",
    "* 科学计算中，一个维度的数据类型往往相同\n",
    "* 采用数组对象，采用相同数据类型利于节省内存空间"
   ]
  },
  {
   "cell_type": "markdown",
   "metadata": {},
   "source": [
    "#### ndarray内部结构"
   ]
  },
  {
   "cell_type": "markdown",
   "metadata": {},
   "source": [
    "ndarray是一个多位数组对象，由两部分构成："
   ]
  },
  {
   "cell_type": "markdown",
   "metadata": {},
   "source": [
    "    * 实际数据"
   ]
  },
  {
   "cell_type": "markdown",
   "metadata": {},
   "source": [
    "    * 描述数据的元数据（维度、类型）"
   ]
  },
  {
   "cell_type": "markdown",
   "metadata": {},
   "source": [
    "ndarray数组一般要求所有元素类型相同（同质）， 数组下标从0开始"
   ]
  },
  {
   "cell_type": "markdown",
   "metadata": {},
   "source": [
    "轴（axis）:保存数据的维度"
   ]
  },
  {
   "cell_type": "markdown",
   "metadata": {},
   "source": [
    "秩（rank）:轴的数量"
   ]
  },
  {
   "cell_type": "markdown",
   "metadata": {},
   "source": [
    "### ndarray对象的属性"
   ]
  },
  {
   "cell_type": "markdown",
   "metadata": {},
   "source": [
    "属性 | 说明\n",
    ":---: | :---:\n",
    ".ndim | 秩，即维度的数量\n",
    ".shape | 尺度，对于矩阵，n行m列\n",
    ".size | 元素个数，相当于.shape中 n * m 的值\n",
    ".dtype | 元素类型\n",
    ".itemsize | 每个元素的大小，以字节为单位"
   ]
  },
  {
   "cell_type": "code",
   "execution_count": 18,
   "metadata": {},
   "outputs": [
    {
     "data": {
      "text/plain": [
       "2"
      ]
     },
     "execution_count": 18,
     "metadata": {},
     "output_type": "execute_result"
    }
   ],
   "source": [
    "a = np.array([[0,1,2,3,4],[9,8,7,6,5]])\n",
    "a.ndim"
   ]
  },
  {
   "cell_type": "code",
   "execution_count": 19,
   "metadata": {},
   "outputs": [
    {
     "data": {
      "text/plain": [
       "(2, 5)"
      ]
     },
     "execution_count": 19,
     "metadata": {},
     "output_type": "execute_result"
    }
   ],
   "source": [
    "a.shape"
   ]
  },
  {
   "cell_type": "code",
   "execution_count": 20,
   "metadata": {},
   "outputs": [
    {
     "data": {
      "text/plain": [
       "10"
      ]
     },
     "execution_count": 20,
     "metadata": {},
     "output_type": "execute_result"
    }
   ],
   "source": [
    "a.size"
   ]
  },
  {
   "cell_type": "code",
   "execution_count": 21,
   "metadata": {},
   "outputs": [
    {
     "data": {
      "text/plain": [
       "dtype('int64')"
      ]
     },
     "execution_count": 21,
     "metadata": {},
     "output_type": "execute_result"
    }
   ],
   "source": [
    "a.dtype"
   ]
  },
  {
   "cell_type": "code",
   "execution_count": 22,
   "metadata": {},
   "outputs": [
    {
     "data": {
      "text/plain": [
       "8"
      ]
     },
     "execution_count": 22,
     "metadata": {},
     "output_type": "execute_result"
    }
   ],
   "source": [
    "a.itemsize"
   ]
  },
  {
   "cell_type": "markdown",
   "metadata": {},
   "source": [
    "### ndarray元素类型"
   ]
  },
  {
   "cell_type": "markdown",
   "metadata": {},
   "source": [
    "数据类型 | 说明\n",
    ":---: | :---------:\n",
    "bool | 1/0\n",
    "intc | 与C中的int一致，int32或int64\n",
    "intp | 用于索引的整数，与C中ssize_t一致，int32或int64\n",
    "int8 | 字节长度的整数，\\[-128, 127\\]\n",
    "int16 | 16位整数\n",
    "int32 | 32位整数\n",
    "int64 | 64位整数\n",
    "uint8 | 8位无符号整数，\\[0, 255\\]\n",
    "uint16 | 16位无符号整数\n",
    "uint32 | 32位无符号整数\n",
    "uint64 | 64位无符号整数\n",
    "float16 | 16位半精度浮点数\n",
    "float32 | 32位半精度浮点数\n",
    "float64 | 64位半精度浮点数\n",
    "complex64 | 复数类型，实部虚部都是32位浮点数(.real+.imag)\n",
    "complex128 | 复数类型，实部虚部都是64位浮点数"
   ]
  },
  {
   "cell_type": "markdown",
   "metadata": {},
   "source": [
    "Python仅支持整数，浮点数和复数三种"
   ]
  }
 ],
 "metadata": {
  "kernelspec": {
   "display_name": "Python 3",
   "language": "python",
   "name": "python3"
  },
  "language_info": {
   "codemirror_mode": {
    "name": "ipython",
    "version": 3
   },
   "file_extension": ".py",
   "mimetype": "text/x-python",
   "name": "python",
   "nbconvert_exporter": "python",
   "pygments_lexer": "ipython3",
   "version": "3.6.2"
  },
  "toc": {
   "nav_menu": {},
   "number_sections": true,
   "sideBar": true,
   "skip_h1_title": false,
   "title_cell": "Table of Contents",
   "title_sidebar": "Contents",
   "toc_cell": false,
   "toc_position": {},
   "toc_section_display": true,
   "toc_window_display": false
  }
 },
 "nbformat": 4,
 "nbformat_minor": 2
}
